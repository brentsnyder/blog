{
  "nbformat": 4,
  "nbformat_minor": 0,
  "metadata": {
    "colab": {
      "name": "2021-08-24-Exploring-Board-Game-Popularity.ipynb",
      "provenance": [],
      "collapsed_sections": [],
      "mount_file_id": "1oOjKl6kE8amv8-fKYUBcB-GNHKIz2BNq",
      "authorship_tag": "ABX9TyOTRr17b2XSPRDFDUVGVICZ",
      "include_colab_link": true
    },
    "kernelspec": {
      "name": "python3",
      "display_name": "Python 3"
    },
    "language_info": {
      "name": "python"
    },
    "widgets": {
      "application/vnd.jupyter.widget-state+json": {
        "fb75b10fcc844e589a762de94763c3cd": {
          "model_module": "@jupyter-widgets/controls",
          "model_name": "HBoxModel",
          "model_module_version": "1.5.0",
          "state": {
            "_view_name": "HBoxView",
            "_dom_classes": [],
            "_model_name": "HBoxModel",
            "_view_module": "@jupyter-widgets/controls",
            "_model_module_version": "1.5.0",
            "_view_count": null,
            "_view_module_version": "1.5.0",
            "box_style": "",
            "layout": "IPY_MODEL_74be725fcef94bb28b0237e938d73d44",
            "_model_module": "@jupyter-widgets/controls",
            "children": [
              "IPY_MODEL_a8a55fb5b82e4f0c9d061b3a3b1d16c2",
              "IPY_MODEL_5b9affd258124601aafadd0b229fa027",
              "IPY_MODEL_108e9181f72945e1b2155c17ef6f529a"
            ]
          }
        },
        "74be725fcef94bb28b0237e938d73d44": {
          "model_module": "@jupyter-widgets/base",
          "model_name": "LayoutModel",
          "model_module_version": "1.2.0",
          "state": {
            "_view_name": "LayoutView",
            "grid_template_rows": null,
            "right": null,
            "justify_content": null,
            "_view_module": "@jupyter-widgets/base",
            "overflow": null,
            "_model_module_version": "1.2.0",
            "_view_count": null,
            "flex_flow": null,
            "width": null,
            "min_width": null,
            "border": null,
            "align_items": null,
            "bottom": null,
            "_model_module": "@jupyter-widgets/base",
            "top": null,
            "grid_column": null,
            "overflow_y": null,
            "overflow_x": null,
            "grid_auto_flow": null,
            "grid_area": null,
            "grid_template_columns": null,
            "flex": null,
            "_model_name": "LayoutModel",
            "justify_items": null,
            "grid_row": null,
            "max_height": null,
            "align_content": null,
            "visibility": null,
            "align_self": null,
            "height": null,
            "min_height": null,
            "padding": null,
            "grid_auto_rows": null,
            "grid_gap": null,
            "max_width": null,
            "order": null,
            "_view_module_version": "1.2.0",
            "grid_template_areas": null,
            "object_position": null,
            "object_fit": null,
            "grid_auto_columns": null,
            "margin": null,
            "display": null,
            "left": null
          }
        },
        "a8a55fb5b82e4f0c9d061b3a3b1d16c2": {
          "model_module": "@jupyter-widgets/controls",
          "model_name": "HTMLModel",
          "model_module_version": "1.5.0",
          "state": {
            "_view_name": "HTMLView",
            "style": "IPY_MODEL_631780416d1a482ba0c33b462a05b501",
            "_dom_classes": [],
            "description": "",
            "_model_name": "HTMLModel",
            "placeholder": "​",
            "_view_module": "@jupyter-widgets/controls",
            "_model_module_version": "1.5.0",
            "value": "100%",
            "_view_count": null,
            "_view_module_version": "1.5.0",
            "description_tooltip": null,
            "_model_module": "@jupyter-widgets/controls",
            "layout": "IPY_MODEL_7e456ae1cc1d4e31a793df7578983bbf"
          }
        },
        "5b9affd258124601aafadd0b229fa027": {
          "model_module": "@jupyter-widgets/controls",
          "model_name": "FloatProgressModel",
          "model_module_version": "1.5.0",
          "state": {
            "_view_name": "ProgressView",
            "style": "IPY_MODEL_0cb8b73ca2e04fed8ae0455d417b959d",
            "_dom_classes": [],
            "description": "",
            "_model_name": "FloatProgressModel",
            "bar_style": "success",
            "max": 5,
            "_view_module": "@jupyter-widgets/controls",
            "_model_module_version": "1.5.0",
            "value": 5,
            "_view_count": null,
            "_view_module_version": "1.5.0",
            "orientation": "horizontal",
            "min": 0,
            "description_tooltip": null,
            "_model_module": "@jupyter-widgets/controls",
            "layout": "IPY_MODEL_250ea4b3d8764e1ebccfc498956b6d6b"
          }
        },
        "108e9181f72945e1b2155c17ef6f529a": {
          "model_module": "@jupyter-widgets/controls",
          "model_name": "HTMLModel",
          "model_module_version": "1.5.0",
          "state": {
            "_view_name": "HTMLView",
            "style": "IPY_MODEL_58e99bf5582f4c0cb94cdd81cf30b8ba",
            "_dom_classes": [],
            "description": "",
            "_model_name": "HTMLModel",
            "placeholder": "​",
            "_view_module": "@jupyter-widgets/controls",
            "_model_module_version": "1.5.0",
            "value": " 5/5 [00:29&lt;00:00,  5.86s/it]",
            "_view_count": null,
            "_view_module_version": "1.5.0",
            "description_tooltip": null,
            "_model_module": "@jupyter-widgets/controls",
            "layout": "IPY_MODEL_500f40545a204d0dbb2647e86ca42604"
          }
        },
        "631780416d1a482ba0c33b462a05b501": {
          "model_module": "@jupyter-widgets/controls",
          "model_name": "DescriptionStyleModel",
          "model_module_version": "1.5.0",
          "state": {
            "_view_name": "StyleView",
            "_model_name": "DescriptionStyleModel",
            "description_width": "",
            "_view_module": "@jupyter-widgets/base",
            "_model_module_version": "1.5.0",
            "_view_count": null,
            "_view_module_version": "1.2.0",
            "_model_module": "@jupyter-widgets/controls"
          }
        },
        "7e456ae1cc1d4e31a793df7578983bbf": {
          "model_module": "@jupyter-widgets/base",
          "model_name": "LayoutModel",
          "model_module_version": "1.2.0",
          "state": {
            "_view_name": "LayoutView",
            "grid_template_rows": null,
            "right": null,
            "justify_content": null,
            "_view_module": "@jupyter-widgets/base",
            "overflow": null,
            "_model_module_version": "1.2.0",
            "_view_count": null,
            "flex_flow": null,
            "width": null,
            "min_width": null,
            "border": null,
            "align_items": null,
            "bottom": null,
            "_model_module": "@jupyter-widgets/base",
            "top": null,
            "grid_column": null,
            "overflow_y": null,
            "overflow_x": null,
            "grid_auto_flow": null,
            "grid_area": null,
            "grid_template_columns": null,
            "flex": null,
            "_model_name": "LayoutModel",
            "justify_items": null,
            "grid_row": null,
            "max_height": null,
            "align_content": null,
            "visibility": null,
            "align_self": null,
            "height": null,
            "min_height": null,
            "padding": null,
            "grid_auto_rows": null,
            "grid_gap": null,
            "max_width": null,
            "order": null,
            "_view_module_version": "1.2.0",
            "grid_template_areas": null,
            "object_position": null,
            "object_fit": null,
            "grid_auto_columns": null,
            "margin": null,
            "display": null,
            "left": null
          }
        },
        "0cb8b73ca2e04fed8ae0455d417b959d": {
          "model_module": "@jupyter-widgets/controls",
          "model_name": "ProgressStyleModel",
          "model_module_version": "1.5.0",
          "state": {
            "_view_name": "StyleView",
            "_model_name": "ProgressStyleModel",
            "description_width": "",
            "_view_module": "@jupyter-widgets/base",
            "_model_module_version": "1.5.0",
            "_view_count": null,
            "_view_module_version": "1.2.0",
            "bar_color": null,
            "_model_module": "@jupyter-widgets/controls"
          }
        },
        "250ea4b3d8764e1ebccfc498956b6d6b": {
          "model_module": "@jupyter-widgets/base",
          "model_name": "LayoutModel",
          "model_module_version": "1.2.0",
          "state": {
            "_view_name": "LayoutView",
            "grid_template_rows": null,
            "right": null,
            "justify_content": null,
            "_view_module": "@jupyter-widgets/base",
            "overflow": null,
            "_model_module_version": "1.2.0",
            "_view_count": null,
            "flex_flow": null,
            "width": null,
            "min_width": null,
            "border": null,
            "align_items": null,
            "bottom": null,
            "_model_module": "@jupyter-widgets/base",
            "top": null,
            "grid_column": null,
            "overflow_y": null,
            "overflow_x": null,
            "grid_auto_flow": null,
            "grid_area": null,
            "grid_template_columns": null,
            "flex": null,
            "_model_name": "LayoutModel",
            "justify_items": null,
            "grid_row": null,
            "max_height": null,
            "align_content": null,
            "visibility": null,
            "align_self": null,
            "height": null,
            "min_height": null,
            "padding": null,
            "grid_auto_rows": null,
            "grid_gap": null,
            "max_width": null,
            "order": null,
            "_view_module_version": "1.2.0",
            "grid_template_areas": null,
            "object_position": null,
            "object_fit": null,
            "grid_auto_columns": null,
            "margin": null,
            "display": null,
            "left": null
          }
        },
        "58e99bf5582f4c0cb94cdd81cf30b8ba": {
          "model_module": "@jupyter-widgets/controls",
          "model_name": "DescriptionStyleModel",
          "model_module_version": "1.5.0",
          "state": {
            "_view_name": "StyleView",
            "_model_name": "DescriptionStyleModel",
            "description_width": "",
            "_view_module": "@jupyter-widgets/base",
            "_model_module_version": "1.5.0",
            "_view_count": null,
            "_view_module_version": "1.2.0",
            "_model_module": "@jupyter-widgets/controls"
          }
        },
        "500f40545a204d0dbb2647e86ca42604": {
          "model_module": "@jupyter-widgets/base",
          "model_name": "LayoutModel",
          "model_module_version": "1.2.0",
          "state": {
            "_view_name": "LayoutView",
            "grid_template_rows": null,
            "right": null,
            "justify_content": null,
            "_view_module": "@jupyter-widgets/base",
            "overflow": null,
            "_model_module_version": "1.2.0",
            "_view_count": null,
            "flex_flow": null,
            "width": null,
            "min_width": null,
            "border": null,
            "align_items": null,
            "bottom": null,
            "_model_module": "@jupyter-widgets/base",
            "top": null,
            "grid_column": null,
            "overflow_y": null,
            "overflow_x": null,
            "grid_auto_flow": null,
            "grid_area": null,
            "grid_template_columns": null,
            "flex": null,
            "_model_name": "LayoutModel",
            "justify_items": null,
            "grid_row": null,
            "max_height": null,
            "align_content": null,
            "visibility": null,
            "align_self": null,
            "height": null,
            "min_height": null,
            "padding": null,
            "grid_auto_rows": null,
            "grid_gap": null,
            "max_width": null,
            "order": null,
            "_view_module_version": "1.2.0",
            "grid_template_areas": null,
            "object_position": null,
            "object_fit": null,
            "grid_auto_columns": null,
            "margin": null,
            "display": null,
            "left": null
          }
        }
      }
    }
  },
  "cells": [
    {
      "cell_type": "markdown",
      "metadata": {
        "id": "view-in-github",
        "colab_type": "text"
      },
      "source": [
        "<a href=\"https://colab.research.google.com/github/brentsnyder/blog/blob/fastpages-automated-setup/2021_08_24_Exploring_Board_Game_Popularity.ipynb\" target=\"_parent\"><img src=\"https://colab.research.google.com/assets/colab-badge.svg\" alt=\"Open In Colab\"/></a>"
      ]
    },
    {
      "cell_type": "markdown",
      "metadata": {
        "id": "hXqtSiKt7E6d"
      },
      "source": [
        "# \"Exploring Board Game Popularity\"\n",
        "> \"Which Board games are most popular and how predictive is the CatBoost algorithm on a hold out validation set?\"\n",
        "\n",
        "- toc: false\n",
        "- branch: master\n",
        "- badges: false\n",
        "- comments: true\n",
        "- categories: [python, modeling]\n",
        "- image: images/board-game-image.png\n",
        "- hide: false\n",
        "- search_exclude: true"
      ]
    },
    {
      "cell_type": "markdown",
      "metadata": {
        "id": "zXOVnFr08Pb4"
      },
      "source": [
        "For those of you who are not familiar with SLICED it is one of the fastest growing data science competitions. I've benefied from competitors sharing their work and working through the datasets. Another benefit is that the datasets are provided and cleaned by the organizers so aspiring data scientists can learn modeling without searching for datasets. \n",
        "\n",
        "The dataset I will be analyzing in this post is from [Season 1 Episode 1 of SLICED](https://www.kaggle.com/c/sliced-s01e01/data?select=train.csv), hosted on Kaggle.\n",
        "\n",
        "This solution will provide a top 5 result on the private leaderboard, but I encourage you to build upon the result and do additional feature engineering and CatBoost hyperparameter tuning.  Let's get started."
      ]
    },
    {
      "cell_type": "markdown",
      "metadata": {
        "id": "9aFRauuw8FD_"
      },
      "source": [
        "### Import libraries and data"
      ]
    },
    {
      "cell_type": "code",
      "metadata": {
        "id": "RmNPfvPRZVcK"
      },
      "source": [
        "import pandas as pd\n",
        "import numpy as np\n",
        "import matplotlib.pyplot as plt\n",
        "import seaborn as sns\n",
        "import xgboost as xgb\n",
        "from sklearn.model_selection import KFold\n",
        "from sklearn.metrics import mean_squared_error\n",
        "from tqdm.notebook import tqdm\n",
        "from sklearn.ensemble import RandomForestRegressor\n",
        "\n",
        "pal = sns.color_palette()"
      ],
      "execution_count": 4,
      "outputs": []
    },
    {
      "cell_type": "code",
      "metadata": {
        "id": "1BWhN39l-StW"
      },
      "source": [
        "!pip install catboost\n",
        "from catboost import CatBoostRegressor"
      ],
      "execution_count": 6,
      "outputs": []
    },
    {
      "cell_type": "code",
      "metadata": {
        "id": "jj5mdZCyZ2oO"
      },
      "source": [
        "df_train = pd.read_csv(\"/content/drive/MyDrive/ds_projects/sliced_s01_e01/train.csv\")\n",
        "df_test = pd.read_csv(\"/content/drive/MyDrive/ds_projects/sliced_s01_e01/test.csv\")"
      ],
      "execution_count": 9,
      "outputs": []
    },
    {
      "cell_type": "markdown",
      "metadata": {
        "id": "78Oa_oC3adzy"
      },
      "source": [
        "The first thing I notice about the data is that the train and test data is small. 3499 rows in the train and 1500 in the test."
      ]
    },
    {
      "cell_type": "code",
      "metadata": {
        "colab": {
          "base_uri": "https://localhost:8080/"
        },
        "id": "9LgyLzlfaWxZ",
        "outputId": "99dfc33a-e453-462a-e5ae-de3fbb7b59b3"
      },
      "source": [
        "df_train.shape, df_test.shape"
      ],
      "execution_count": 10,
      "outputs": [
        {
          "output_type": "execute_result",
          "data": {
            "text/plain": [
              "((3499, 26), (1500, 25))"
            ]
          },
          "metadata": {},
          "execution_count": 10
        }
      ]
    },
    {
      "cell_type": "markdown",
      "metadata": {
        "id": "0KArNBM1-6Nm"
      },
      "source": [
        "A quick look at the data shows that missing values will not be an issue. There are 12 categories of board games that are spread across columns. We'll need to stack them later."
      ]
    },
    {
      "cell_type": "code",
      "metadata": {
        "colab": {
          "base_uri": "https://localhost:8080/"
        },
        "id": "YRMWHkCwbLZ2",
        "outputId": "ff5ed4cd-8395-4673-e953-1262dbb9aa30"
      },
      "source": [
        "df_train.info()"
      ],
      "execution_count": 42,
      "outputs": [
        {
          "output_type": "stream",
          "text": [
            "<class 'pandas.core.frame.DataFrame'>\n",
            "RangeIndex: 3499 entries, 0 to 3498\n",
            "Data columns (total 26 columns):\n",
            " #   Column       Non-Null Count  Dtype  \n",
            "---  ------       --------------  -----  \n",
            " 0   game_id      3499 non-null   int64  \n",
            " 1   names        3499 non-null   object \n",
            " 2   min_players  3499 non-null   int64  \n",
            " 3   max_players  3499 non-null   int64  \n",
            " 4   avg_time     3499 non-null   int64  \n",
            " 5   min_time     3499 non-null   int64  \n",
            " 6   max_time     3499 non-null   int64  \n",
            " 7   year         3499 non-null   int64  \n",
            " 8   geek_rating  3499 non-null   float64\n",
            " 9   num_votes    3499 non-null   int64  \n",
            " 10  age          3499 non-null   int64  \n",
            " 11  mechanic     3499 non-null   object \n",
            " 12  owned        3499 non-null   int64  \n",
            " 13  category1    3499 non-null   object \n",
            " 14  category2    2888 non-null   object \n",
            " 15  category3    1726 non-null   object \n",
            " 16  category4    863 non-null    object \n",
            " 17  category5    401 non-null    object \n",
            " 18  category6    136 non-null    object \n",
            " 19  category7    46 non-null     object \n",
            " 20  category8    19 non-null     object \n",
            " 21  category9    5 non-null      object \n",
            " 22  category10   4 non-null      object \n",
            " 23  category11   1 non-null      object \n",
            " 24  category12   1 non-null      object \n",
            " 25  designer     3499 non-null   object \n",
            "dtypes: float64(1), int64(10), object(15)\n",
            "memory usage: 710.9+ KB\n"
          ],
          "name": "stdout"
        }
      ]
    },
    {
      "cell_type": "markdown",
      "metadata": {
        "id": "Ht3aNp3M_R-a"
      },
      "source": [
        "Geek rating is the variable that we are tasked with predicting. I'm surprised that the scale is tighter. They must have truncated the data. Mean rating is 6.09 and the min is 5.64 and max is 8.50. "
      ]
    },
    {
      "cell_type": "code",
      "metadata": {
        "colab": {
          "base_uri": "https://localhost:8080/",
          "height": 296
        },
        "id": "FKnTTdzebnj3",
        "outputId": "d81335d4-4666-4560-c1ef-673a124708af"
      },
      "source": [
        "mean_rating = df_train['geek_rating'].mean()\n",
        "\n",
        "sns.histplot(df_train['geek_rating'])\n",
        "plt.axvline(mean_rating, color = 'red')\n",
        "sns.despine()\n",
        "plt.title(f'Geek Rating distribution with a mean of {round(mean_rating,2)}');"
      ],
      "execution_count": 38,
      "outputs": [
        {
          "output_type": "display_data",
          "data": {
            "image/png": "[encoded data removed]",
            "text/plain": [
              "<Figure size 432x288 with 1 Axes>"
            ]
          },
          "metadata": {
            "needs_background": "light"
          }
        }
      ]
    },
    {
      "cell_type": "code",
      "metadata": {
        "colab": {
          "base_uri": "https://localhost:8080/",
          "height": 295
        },
        "id": "o1bJEP9H4uQJ",
        "outputId": "813ca661-3d41-4573-ec1f-1d9d13efe6d8"
      },
      "source": [
        "df_train['geek_rating'].describe().to_frame()"
      ],
      "execution_count": 40,
      "outputs": [
        {
          "output_type": "execute_result",
          "data": {
            "text/html": [
              "<div>\n",
              "<style scoped>\n",
              "    .dataframe tbody tr th:only-of-type {\n",
              "        vertical-align: middle;\n",
              "    }\n",
              "\n",
              "    .dataframe tbody tr th {\n",
              "        vertical-align: top;\n",
              "    }\n",
              "\n",
              "    .dataframe thead th {\n",
              "        text-align: right;\n",
              "    }\n",
              "</style>\n",
              "<table border=\"1\" class=\"dataframe\">\n",
              "  <thead>\n",
              "    <tr style=\"text-align: right;\">\n",
              "      <th></th>\n",
              "      <th>geek_rating</th>\n",
              "    </tr>\n",
              "  </thead>\n",
              "  <tbody>\n",
              "    <tr>\n",
              "      <th>count</th>\n",
              "      <td>3499.000000</td>\n",
              "    </tr>\n",
              "    <tr>\n",
              "      <th>mean</th>\n",
              "      <td>6.087625</td>\n",
              "    </tr>\n",
              "    <tr>\n",
              "      <th>std</th>\n",
              "      <td>0.482988</td>\n",
              "    </tr>\n",
              "    <tr>\n",
              "      <th>min</th>\n",
              "      <td>5.640240</td>\n",
              "    </tr>\n",
              "    <tr>\n",
              "      <th>25%</th>\n",
              "      <td>5.726210</td>\n",
              "    </tr>\n",
              "    <tr>\n",
              "      <th>50%</th>\n",
              "      <td>5.904700</td>\n",
              "    </tr>\n",
              "    <tr>\n",
              "      <th>75%</th>\n",
              "      <td>6.302635</td>\n",
              "    </tr>\n",
              "    <tr>\n",
              "      <th>max</th>\n",
              "      <td>8.501630</td>\n",
              "    </tr>\n",
              "  </tbody>\n",
              "</table>\n",
              "</div>"
            ],
            "text/plain": [
              "       geek_rating\n",
              "count  3499.000000\n",
              "mean      6.087625\n",
              "std       0.482988\n",
              "min       5.640240\n",
              "25%       5.726210\n",
              "50%       5.904700\n",
              "75%       6.302635\n",
              "max       8.501630"
            ]
          },
          "metadata": {},
          "execution_count": 40
        }
      ]
    },
    {
      "cell_type": "markdown",
      "metadata": {
        "id": "Uy9KhBpgsjd5"
      },
      "source": [
        "### Feature engineering numerical features"
      ]
    },
    {
      "cell_type": "markdown",
      "metadata": {
        "id": "-MQHV7IfEE-W"
      },
      "source": [
        "There are quite a few variables with skewed distributions in the tails. This presents opportunities for transformations."
      ]
    },
    {
      "cell_type": "code",
      "metadata": {
        "id": "bEy4jgOuDzal"
      },
      "source": [
        "# set up list of numerical features\n",
        "num_feats = ['min_players', 'max_players', 'avg_time', \n",
        "             'min_time', 'max_time', 'year',\n",
        "             'num_votes', 'age', 'owned']"
      ],
      "execution_count": 53,
      "outputs": []
    },
    {
      "cell_type": "code",
      "metadata": {
        "colab": {
          "base_uri": "https://localhost:8080/",
          "height": 934
        },
        "id": "-r7shbvMmECX",
        "outputId": "6df98116-34ef-4f0a-845f-9b17f5cafe92"
      },
      "source": [
        "a = len(num_feats)\n",
        "b = round(len(num_feats) / 3)\n",
        "c = 1\n",
        "\n",
        "fig = plt.figure(figsize=(20,50))\n",
        "\n",
        "for i in num_feats:\n",
        "  plt.subplot(a,b,c)\n",
        "  sns.histplot(df_train[i])\n",
        "  plt.xlabel(i)\n",
        "\n",
        "  c += 1"
      ],
      "execution_count": 54,
      "outputs": [
        {
          "output_type": "display_data",
          "data": {
            "image/png": "[encoded data removed]",
            "text/plain": [
              "<Figure size 1440x3600 with 9 Axes>"
            ]
          },
          "metadata": {
            "needs_background": "light"
          }
        }
      ]
    },
    {
      "cell_type": "markdown",
      "metadata": {
        "id": "TFzjAD72j5JD"
      },
      "source": [
        "Log transforming the Owned and Number Votes variables make them normal which may be useful for modeling."
      ]
    },
    {
      "cell_type": "code",
      "metadata": {
        "colab": {
          "base_uri": "https://localhost:8080/",
          "height": 350
        },
        "id": "4pIrYe7ihRd6",
        "outputId": "1d13bdc8-6c4f-48e0-c182-c7c931672bb1"
      },
      "source": [
        "f, axes = plt.subplots(1,2, figsize=[10,5])\n",
        "\n",
        "sns.histplot(df_train['owned'], ax = axes[0])\n",
        "sns.histplot(np.log(df_train['owned']), ax = axes[1])\n",
        "sns.despine()\n",
        "axes[0].set_title('Owned variable has a skewed distribution')\n",
        "axes[1].set_title('Log tranform Owned makes it normal');"
      ],
      "execution_count": 43,
      "outputs": [
        {
          "output_type": "display_data",
          "data": {
            "image/png": "[encoded data removed]",
            "text/plain": [
              "<Figure size 720x360 with 2 Axes>"
            ]
          },
          "metadata": {
            "needs_background": "light"
          }
        }
      ]
    },
    {
      "cell_type": "code",
      "metadata": {
        "colab": {
          "base_uri": "https://localhost:8080/",
          "height": 350
        },
        "id": "gZ2TrvoXnVYM",
        "outputId": "478621aa-836b-494d-dc51-02b2dda68a52"
      },
      "source": [
        "f, axes = plt.subplots(1,2, figsize=[10,5])\n",
        "\n",
        "sns.histplot(df_train['num_votes'], ax = axes[0])\n",
        "sns.histplot(np.log(df_train['num_votes']), ax = axes[1])\n",
        "sns.despine()\n",
        "axes[0].set_title('Num votes variable has a skewed distribution')\n",
        "axes[1].set_title('Log tranform Num votes makes it normal');"
      ],
      "execution_count": 44,
      "outputs": [
        {
          "output_type": "display_data",
          "data": {
            "image/png": "[encoded data removed]",
            "text/plain": [
              "<Figure size 720x360 with 2 Axes>"
            ]
          },
          "metadata": {
            "needs_background": "light"
          }
        }
      ]
    },
    {
      "cell_type": "markdown",
      "metadata": {
        "id": "THLJaKo5nair"
      },
      "source": [
        "Correlation plot shows that there are some relationships between predictors. As expected, min, max, and average time are correlated. \n",
        "\n",
        "Owned and Number votes are the most correlated with geek rating. With limited feature engineering I am sure we will see those 2 variables being important in our first model's variable importance plots."
      ]
    },
    {
      "cell_type": "code",
      "metadata": {
        "colab": {
          "base_uri": "https://localhost:8080/",
          "height": 606
        },
        "id": "6_rf-WE6sl6P",
        "outputId": "1b9de61c-4cb9-407d-ef72-fa28226e0d95"
      },
      "source": [
        "corr = df_train.loc[:, num_feats + ['geek_rating']].corr()\n",
        "\n",
        "mask = np.triu(np.ones_like(corr, dtype=bool))\n",
        "# Set up the matplotlib figure\n",
        "f, ax = plt.subplots(figsize=(11, 9))\n",
        "\n",
        "# Generate a custom diverging colormap\n",
        "cmap = sns.diverging_palette(230, 20, as_cmap=True)\n",
        "\n",
        "# Draw the heatmap with the mask and correct aspect ratio\n",
        "sns.heatmap(corr, mask=mask, cmap=cmap, vmax=.3, center=0,\n",
        "            square=True, linewidths=.5, cbar_kws={\"shrink\": .5})\n",
        "\n",
        "plt.title('Num votes and Owned are correlated with geek rating');"
      ],
      "execution_count": 57,
      "outputs": [
        {
          "output_type": "display_data",
          "data": {
            "image/png": "[encoded data removed]",
            "text/plain": [
              "<Figure size 792x648 with 2 Axes>"
            ]
          },
          "metadata": {
            "needs_background": "light"
          }
        }
      ]
    },
    {
      "cell_type": "markdown",
      "metadata": {
        "id": "hUm4PWFh1D4y"
      },
      "source": [
        "### Feature engineering using the categorical columns"
      ]
    },
    {
      "cell_type": "markdown",
      "metadata": {
        "id": "cmiAwWJyFCSG"
      },
      "source": [
        "68.8% of games have 1 designer but there are over 1,000 games that have multiple designers.\n",
        "\n",
        "However, it is not clear from the boxplot that games that have multiple designers have higher ratings. Games that have 4 or 5 designers have slightly higher ratings but it based on a smaller sample size."
      ]
    },
    {
      "cell_type": "code",
      "metadata": {
        "id": "X6E__qwQgi9p"
      },
      "source": [
        "# count number of designers\n",
        "df_train['nbr_designers'] = df_train['designer'].apply(lambda x: x.count(',')+1)\n",
        "# bucket 3+ designers\n",
        "df_train['nbr_designers'] = df_train['nbr_designers'].apply(lambda x: 3 if x > 3 else x)\n",
        "designer_df = df_train.loc[:, ['designer', 'nbr_designers','geek_rating']].reset_index()"
      ],
      "execution_count": 58,
      "outputs": []
    },
    {
      "cell_type": "code",
      "metadata": {
        "colab": {
          "base_uri": "https://localhost:8080/"
        },
        "id": "N71KHlZVFJ_P",
        "outputId": "07291462-aefe-4f2d-94aa-6454445d102e"
      },
      "source": [
        "df_train['nbr_designers'].value_counts(normalize=True)*100"
      ],
      "execution_count": 80,
      "outputs": [
        {
          "output_type": "execute_result",
          "data": {
            "text/plain": [
              "1    68.762504\n",
              "2    23.692484\n",
              "3     7.545013\n",
              "Name: nbr_designers, dtype: float64"
            ]
          },
          "metadata": {},
          "execution_count": 80
        }
      ]
    },
    {
      "cell_type": "code",
      "metadata": {
        "colab": {
          "base_uri": "https://localhost:8080/",
          "height": 296
        },
        "id": "lxVn4F0mg-NE",
        "outputId": "f9c36151-3aca-494b-bbb8-ebab6296f073"
      },
      "source": [
        "sns.boxplot(x = 'nbr_designers', y = 'geek_rating', data = df_train)\n",
        "sns.despine()\n",
        "plt.title('The number of designers is not necessarily significant');"
      ],
      "execution_count": 85,
      "outputs": [
        {
          "output_type": "display_data",
          "data": {
            "image/png": "[encoded data removed]",
            "text/plain": [
              "<Figure size 432x288 with 1 Axes>"
            ]
          },
          "metadata": {
            "needs_background": "light"
          }
        }
      ]
    },
    {
      "cell_type": "markdown",
      "metadata": {
        "id": "ujqvbP3UIm3F"
      },
      "source": [
        "Reiner Knizia has the most games credited at 80. The closest designer (excluding uncredited) is Martin Wallace at 35 games designed. "
      ]
    },
    {
      "cell_type": "code",
      "metadata": {
        "id": "ShWkZS9ienyf"
      },
      "source": [
        "# expand list of designers and stack for easy comparison\n",
        "designer_stack = df_train.loc[:, 'designer'].str.split(', ', expand=True).stack().to_frame().reset_index().loc[:, ['level_0', 0]].rename(columns = {'level_0': 'index', 0:'designer'})\n",
        "designer = designer_stack.merge(designer_df, left_on='index', right_on='index')"
      ],
      "execution_count": 74,
      "outputs": []
    },
    {
      "cell_type": "code",
      "metadata": {
        "colab": {
          "base_uri": "https://localhost:8080/",
          "height": 665
        },
        "id": "FjaWBAbF0WGK",
        "outputId": "31655f0a-15b9-465d-878f-1ad5c6e8fe1a"
      },
      "source": [
        "# most prolific solo designers\n",
        "designer.loc[designer['nbr_designers']==1, :].groupby('designer_x').agg(mean_geek_rating = ('geek_rating', np.mean) , nbr_games = ('geek_rating', len)).reset_index().sort_values(by='nbr_games',ascending=False).reset_index().head(20)"
      ],
      "execution_count": 86,
      "outputs": [
        {
          "output_type": "execute_result",
          "data": {
            "text/html": [
              "<div>\n",
              "<style scoped>\n",
              "    .dataframe tbody tr th:only-of-type {\n",
              "        vertical-align: middle;\n",
              "    }\n",
              "\n",
              "    .dataframe tbody tr th {\n",
              "        vertical-align: top;\n",
              "    }\n",
              "\n",
              "    .dataframe thead th {\n",
              "        text-align: right;\n",
              "    }\n",
              "</style>\n",
              "<table border=\"1\" class=\"dataframe\">\n",
              "  <thead>\n",
              "    <tr style=\"text-align: right;\">\n",
              "      <th></th>\n",
              "      <th>index</th>\n",
              "      <th>designer_x</th>\n",
              "      <th>mean_geek_rating</th>\n",
              "      <th>nbr_games</th>\n",
              "    </tr>\n",
              "  </thead>\n",
              "  <tbody>\n",
              "    <tr>\n",
              "      <th>0</th>\n",
              "      <td>860</td>\n",
              "      <td>Reiner Knizia</td>\n",
              "      <td>6.075032</td>\n",
              "      <td>80.0</td>\n",
              "    </tr>\n",
              "    <tr>\n",
              "      <th>1</th>\n",
              "      <td>0</td>\n",
              "      <td>(Uncredited)</td>\n",
              "      <td>6.031453</td>\n",
              "      <td>50.0</td>\n",
              "    </tr>\n",
              "    <tr>\n",
              "      <th>2</th>\n",
              "      <td>697</td>\n",
              "      <td>Martin Wallace</td>\n",
              "      <td>6.304218</td>\n",
              "      <td>35.0</td>\n",
              "    </tr>\n",
              "    <tr>\n",
              "      <th>3</th>\n",
              "      <td>374</td>\n",
              "      <td>Friedemann Friese</td>\n",
              "      <td>6.197290</td>\n",
              "      <td>27.0</td>\n",
              "    </tr>\n",
              "    <tr>\n",
              "      <th>4</th>\n",
              "      <td>1094</td>\n",
              "      <td>none</td>\n",
              "      <td>5.801660</td>\n",
              "      <td>24.0</td>\n",
              "    </tr>\n",
              "    <tr>\n",
              "      <th>5</th>\n",
              "      <td>609</td>\n",
              "      <td>Klaus Teuber</td>\n",
              "      <td>6.058212</td>\n",
              "      <td>24.0</td>\n",
              "    </tr>\n",
              "    <tr>\n",
              "      <th>6</th>\n",
              "      <td>740</td>\n",
              "      <td>Michael Schacht</td>\n",
              "      <td>6.112761</td>\n",
              "      <td>20.0</td>\n",
              "    </tr>\n",
              "    <tr>\n",
              "      <th>7</th>\n",
              "      <td>1052</td>\n",
              "      <td>Uwe Rosenberg</td>\n",
              "      <td>6.764786</td>\n",
              "      <td>19.0</td>\n",
              "    </tr>\n",
              "    <tr>\n",
              "      <th>8</th>\n",
              "      <td>920</td>\n",
              "      <td>Rüdiger Dorn</td>\n",
              "      <td>6.372285</td>\n",
              "      <td>17.0</td>\n",
              "    </tr>\n",
              "    <tr>\n",
              "      <th>9</th>\n",
              "      <td>209</td>\n",
              "      <td>Corné van Moorsel</td>\n",
              "      <td>5.926044</td>\n",
              "      <td>16.0</td>\n",
              "    </tr>\n",
              "    <tr>\n",
              "      <th>10</th>\n",
              "      <td>960</td>\n",
              "      <td>Stefan Feld</td>\n",
              "      <td>6.753361</td>\n",
              "      <td>16.0</td>\n",
              "    </tr>\n",
              "    <tr>\n",
              "      <th>11</th>\n",
              "      <td>644</td>\n",
              "      <td>Leo Colovini</td>\n",
              "      <td>5.901001</td>\n",
              "      <td>15.0</td>\n",
              "    </tr>\n",
              "    <tr>\n",
              "      <th>12</th>\n",
              "      <td>959</td>\n",
              "      <td>Stefan Dorra</td>\n",
              "      <td>6.105082</td>\n",
              "      <td>15.0</td>\n",
              "    </tr>\n",
              "    <tr>\n",
              "      <th>13</th>\n",
              "      <td>292</td>\n",
              "      <td>Dirk Henn</td>\n",
              "      <td>6.253423</td>\n",
              "      <td>15.0</td>\n",
              "    </tr>\n",
              "    <tr>\n",
              "      <th>14</th>\n",
              "      <td>16</td>\n",
              "      <td>Alan R. Moon</td>\n",
              "      <td>6.199346</td>\n",
              "      <td>15.0</td>\n",
              "    </tr>\n",
              "    <tr>\n",
              "      <th>15</th>\n",
              "      <td>873</td>\n",
              "      <td>Richard H. Berg</td>\n",
              "      <td>5.789186</td>\n",
              "      <td>14.0</td>\n",
              "    </tr>\n",
              "    <tr>\n",
              "      <th>16</th>\n",
              "      <td>279</td>\n",
              "      <td>Dean Essig</td>\n",
              "      <td>5.835333</td>\n",
              "      <td>14.0</td>\n",
              "    </tr>\n",
              "    <tr>\n",
              "      <th>17</th>\n",
              "      <td>611</td>\n",
              "      <td>Klaus-Jürgen Wrede</td>\n",
              "      <td>6.322541</td>\n",
              "      <td>13.0</td>\n",
              "    </tr>\n",
              "    <tr>\n",
              "      <th>18</th>\n",
              "      <td>978</td>\n",
              "      <td>Steve Jackson (I)</td>\n",
              "      <td>5.904472</td>\n",
              "      <td>13.0</td>\n",
              "    </tr>\n",
              "    <tr>\n",
              "      <th>19</th>\n",
              "      <td>1057</td>\n",
              "      <td>Vlaada Chvátil</td>\n",
              "      <td>6.648310</td>\n",
              "      <td>13.0</td>\n",
              "    </tr>\n",
              "  </tbody>\n",
              "</table>\n",
              "</div>"
            ],
            "text/plain": [
              "    index          designer_x  mean_geek_rating  nbr_games\n",
              "0     860       Reiner Knizia          6.075032       80.0\n",
              "1       0        (Uncredited)          6.031453       50.0\n",
              "2     697      Martin Wallace          6.304218       35.0\n",
              "3     374   Friedemann Friese          6.197290       27.0\n",
              "4    1094                none          5.801660       24.0\n",
              "5     609        Klaus Teuber          6.058212       24.0\n",
              "6     740     Michael Schacht          6.112761       20.0\n",
              "7    1052       Uwe Rosenberg          6.764786       19.0\n",
              "8     920        Rüdiger Dorn          6.372285       17.0\n",
              "9     209   Corné van Moorsel          5.926044       16.0\n",
              "10    960         Stefan Feld          6.753361       16.0\n",
              "11    644        Leo Colovini          5.901001       15.0\n",
              "12    959        Stefan Dorra          6.105082       15.0\n",
              "13    292           Dirk Henn          6.253423       15.0\n",
              "14     16        Alan R. Moon          6.199346       15.0\n",
              "15    873     Richard H. Berg          5.789186       14.0\n",
              "16    279          Dean Essig          5.835333       14.0\n",
              "17    611  Klaus-Jürgen Wrede          6.322541       13.0\n",
              "18    978   Steve Jackson (I)          5.904472       13.0\n",
              "19   1057      Vlaada Chvátil          6.648310       13.0"
            ]
          },
          "metadata": {},
          "execution_count": 86
        }
      ]
    },
    {
      "cell_type": "markdown",
      "metadata": {
        "id": "AHNgJzKqI6mT"
      },
      "source": [
        "Nikki Valens is the most popular designer followed behind is Adam Poots. "
      ]
    },
    {
      "cell_type": "code",
      "metadata": {
        "id": "hxnKwSldlUD6"
      },
      "source": [
        "top_solo_designers = designer.loc[designer['nbr_designers']==1, :].groupby('designer_x').agg(mean_geek_rating = ('geek_rating', np.mean) , nbr_games = ('geek_rating', len)).reset_index().sort_values(by='mean_geek_rating',ascending=False).head(20).reset_index()\n",
        "bottom_solo_designers = designer.loc[designer['nbr_designers']==1, :].groupby('designer_x').agg(mean_geek_rating = ('geek_rating', np.mean) , nbr_games = ('geek_rating', len)).reset_index().sort_values(by='mean_geek_rating',ascending=True).head(20).reset_index()"
      ],
      "execution_count": 88,
      "outputs": []
    },
    {
      "cell_type": "code",
      "metadata": {
        "colab": {
          "base_uri": "https://localhost:8080/",
          "height": 622
        },
        "id": "_Wev7sdCl6Vi",
        "outputId": "5f631018-0e00-44b0-b0f6-b9919eca23d0"
      },
      "source": [
        "plt.figure(figsize=[10,10])\n",
        "sns.barplot(y = 'designer_x', x = 'mean_geek_rating', data = top_solo_designers)\n",
        "sns.despine()\n",
        "plt.ylabel('Designer')\n",
        "plt.title('Most Popular Solo Game Designers');"
      ],
      "execution_count": 92,
      "outputs": [
        {
          "output_type": "display_data",
          "data": {
            "image/png": "[encoded data removed]",
            "text/plain": [
              "<Figure size 720x720 with 1 Axes>"
            ]
          },
          "metadata": {
            "needs_background": "light"
          }
        }
      ]
    },
    {
      "cell_type": "markdown",
      "metadata": {
        "id": "-tJe7B8P1KY0"
      },
      "source": [
        "Card Game, Wargame, and Fantasy categories have the most number of games."
      ]
    },
    {
      "cell_type": "code",
      "metadata": {
        "id": "z-dK5f-z1MFv"
      },
      "source": [
        "# category columns merge and stack\n",
        "cat_col_names = [i for i in df_train.columns.values if i.find('cat')==0]\n",
        "\n",
        "category_stacked = df_train.loc[:, cat_col_names].stack().reset_index().rename(columns = {'level_0':'index', 0:'category'}).loc[:, ['index', 'category']]\n",
        "\n",
        "category_stacked['category'] = category_stacked.loc[:, 'category'].apply(lambda x: x.strip())\n",
        "\n",
        "# merge with geek rating and aggregate\n",
        "geek_rating_by_category = category_stacked.merge(df_train.loc[:, ['geek_rating']].reset_index(), left_on='index', right_on='index')\n",
        "\n",
        "geek_rating_by_category = geek_rating_by_category.groupby('category').agg(mean_geek_rating = ('geek_rating', np.mean), nbr_games = ('geek_rating',len)).reset_index()"
      ],
      "execution_count": null,
      "outputs": []
    },
    {
      "cell_type": "code",
      "metadata": {
        "colab": {
          "base_uri": "https://localhost:8080/",
          "height": 665
        },
        "id": "4agtY44rAT9u",
        "outputId": "467a10c6-e8c4-4299-f900-8968d2653c59"
      },
      "source": [
        "# most prolific categories\n",
        "geek_rating_by_category.sort_values('nbr_games', ascending=False).head(20)"
      ],
      "execution_count": null,
      "outputs": [
        {
          "output_type": "execute_result",
          "data": {
            "text/html": [
              "<div>\n",
              "<style scoped>\n",
              "    .dataframe tbody tr th:only-of-type {\n",
              "        vertical-align: middle;\n",
              "    }\n",
              "\n",
              "    .dataframe tbody tr th {\n",
              "        vertical-align: top;\n",
              "    }\n",
              "\n",
              "    .dataframe thead th {\n",
              "        text-align: right;\n",
              "    }\n",
              "</style>\n",
              "<table border=\"1\" class=\"dataframe\">\n",
              "  <thead>\n",
              "    <tr style=\"text-align: right;\">\n",
              "      <th></th>\n",
              "      <th>category</th>\n",
              "      <th>mean_geek_rating</th>\n",
              "      <th>nbr_games</th>\n",
              "    </tr>\n",
              "  </thead>\n",
              "  <tbody>\n",
              "    <tr>\n",
              "      <th>14</th>\n",
              "      <td>Card Game</td>\n",
              "      <td>6.049298</td>\n",
              "      <td>969.0</td>\n",
              "    </tr>\n",
              "    <tr>\n",
              "      <th>78</th>\n",
              "      <td>Wargame</td>\n",
              "      <td>5.975838</td>\n",
              "      <td>635.0</td>\n",
              "    </tr>\n",
              "    <tr>\n",
              "      <th>29</th>\n",
              "      <td>Fantasy</td>\n",
              "      <td>6.172004</td>\n",
              "      <td>535.0</td>\n",
              "    </tr>\n",
              "    <tr>\n",
              "      <th>23</th>\n",
              "      <td>Economic</td>\n",
              "      <td>6.309115</td>\n",
              "      <td>395.0</td>\n",
              "    </tr>\n",
              "    <tr>\n",
              "      <th>31</th>\n",
              "      <td>Fighting</td>\n",
              "      <td>6.260619</td>\n",
              "      <td>380.0</td>\n",
              "    </tr>\n",
              "    <tr>\n",
              "      <th>67</th>\n",
              "      <td>Science Fiction</td>\n",
              "      <td>6.190278</td>\n",
              "      <td>327.0</td>\n",
              "    </tr>\n",
              "    <tr>\n",
              "      <th>22</th>\n",
              "      <td>Dice</td>\n",
              "      <td>6.067265</td>\n",
              "      <td>265.0</td>\n",
              "    </tr>\n",
              "    <tr>\n",
              "      <th>12</th>\n",
              "      <td>Bluffing</td>\n",
              "      <td>6.112396</td>\n",
              "      <td>229.0</td>\n",
              "    </tr>\n",
              "    <tr>\n",
              "      <th>2</th>\n",
              "      <td>Adventure</td>\n",
              "      <td>6.238299</td>\n",
              "      <td>223.0</td>\n",
              "    </tr>\n",
              "    <tr>\n",
              "      <th>44</th>\n",
              "      <td>Miniatures</td>\n",
              "      <td>6.205932</td>\n",
              "      <td>223.0</td>\n",
              "    </tr>\n",
              "    <tr>\n",
              "      <th>81</th>\n",
              "      <td>World War II</td>\n",
              "      <td>5.922496</td>\n",
              "      <td>221.0</td>\n",
              "    </tr>\n",
              "    <tr>\n",
              "      <th>42</th>\n",
              "      <td>Medieval</td>\n",
              "      <td>6.229393</td>\n",
              "      <td>217.0</td>\n",
              "    </tr>\n",
              "    <tr>\n",
              "      <th>28</th>\n",
              "      <td>Exploration</td>\n",
              "      <td>6.165319</td>\n",
              "      <td>206.0</td>\n",
              "    </tr>\n",
              "    <tr>\n",
              "      <th>21</th>\n",
              "      <td>Deduction</td>\n",
              "      <td>6.128765</td>\n",
              "      <td>203.0</td>\n",
              "    </tr>\n",
              "    <tr>\n",
              "      <th>55</th>\n",
              "      <td>Party Game</td>\n",
              "      <td>6.057245</td>\n",
              "      <td>191.0</td>\n",
              "    </tr>\n",
              "    <tr>\n",
              "      <th>0</th>\n",
              "      <td>Abstract Strategy</td>\n",
              "      <td>6.014958</td>\n",
              "      <td>186.0</td>\n",
              "    </tr>\n",
              "    <tr>\n",
              "      <th>9</th>\n",
              "      <td>Animals</td>\n",
              "      <td>6.038774</td>\n",
              "      <td>182.0</td>\n",
              "    </tr>\n",
              "    <tr>\n",
              "      <th>8</th>\n",
              "      <td>Ancient</td>\n",
              "      <td>6.168602</td>\n",
              "      <td>174.0</td>\n",
              "    </tr>\n",
              "    <tr>\n",
              "      <th>16</th>\n",
              "      <td>City Building</td>\n",
              "      <td>6.319009</td>\n",
              "      <td>171.0</td>\n",
              "    </tr>\n",
              "    <tr>\n",
              "      <th>34</th>\n",
              "      <td>Humor</td>\n",
              "      <td>6.035750</td>\n",
              "      <td>145.0</td>\n",
              "    </tr>\n",
              "  </tbody>\n",
              "</table>\n",
              "</div>"
            ],
            "text/plain": [
              "             category  mean_geek_rating  nbr_games\n",
              "14          Card Game          6.049298      969.0\n",
              "78            Wargame          5.975838      635.0\n",
              "29            Fantasy          6.172004      535.0\n",
              "23           Economic          6.309115      395.0\n",
              "31           Fighting          6.260619      380.0\n",
              "67    Science Fiction          6.190278      327.0\n",
              "22               Dice          6.067265      265.0\n",
              "12           Bluffing          6.112396      229.0\n",
              "2           Adventure          6.238299      223.0\n",
              "44         Miniatures          6.205932      223.0\n",
              "81       World War II          5.922496      221.0\n",
              "42           Medieval          6.229393      217.0\n",
              "28        Exploration          6.165319      206.0\n",
              "21          Deduction          6.128765      203.0\n",
              "55         Party Game          6.057245      191.0\n",
              "0   Abstract Strategy          6.014958      186.0\n",
              "9             Animals          6.038774      182.0\n",
              "8             Ancient          6.168602      174.0\n",
              "16      City Building          6.319009      171.0\n",
              "34              Humor          6.035750      145.0"
            ]
          },
          "metadata": {},
          "execution_count": 21
        }
      ]
    },
    {
      "cell_type": "markdown",
      "metadata": {
        "id": "tTXFFSsLJySV"
      },
      "source": [
        "Mature / Adult, Farming, and Environmental are the categories with the highest rated games."
      ]
    },
    {
      "cell_type": "code",
      "metadata": {
        "colab": {
          "base_uri": "https://localhost:8080/",
          "height": 665
        },
        "id": "Z_xWoA6M8wu2",
        "outputId": "df7bdb62-d215-41a5-ed47-a62354139ea6"
      },
      "source": [
        "geek_rating_by_category.sort_values('mean_geek_rating', ascending=False).head(20)"
      ],
      "execution_count": null,
      "outputs": [
        {
          "output_type": "execute_result",
          "data": {
            "text/html": [
              "<div>\n",
              "<style scoped>\n",
              "    .dataframe tbody tr th:only-of-type {\n",
              "        vertical-align: middle;\n",
              "    }\n",
              "\n",
              "    .dataframe tbody tr th {\n",
              "        vertical-align: top;\n",
              "    }\n",
              "\n",
              "    .dataframe thead th {\n",
              "        text-align: right;\n",
              "    }\n",
              "</style>\n",
              "<table border=\"1\" class=\"dataframe\">\n",
              "  <thead>\n",
              "    <tr style=\"text-align: right;\">\n",
              "      <th></th>\n",
              "      <th>category</th>\n",
              "      <th>mean_geek_rating</th>\n",
              "      <th>nbr_games</th>\n",
              "    </tr>\n",
              "  </thead>\n",
              "  <tbody>\n",
              "    <tr>\n",
              "      <th>39</th>\n",
              "      <td>Mature / Adult</td>\n",
              "      <td>6.541271</td>\n",
              "      <td>11.0</td>\n",
              "    </tr>\n",
              "    <tr>\n",
              "      <th>30</th>\n",
              "      <td>Farming</td>\n",
              "      <td>6.443360</td>\n",
              "      <td>56.0</td>\n",
              "    </tr>\n",
              "    <tr>\n",
              "      <th>26</th>\n",
              "      <td>Environmental</td>\n",
              "      <td>6.396710</td>\n",
              "      <td>40.0</td>\n",
              "    </tr>\n",
              "    <tr>\n",
              "      <th>59</th>\n",
              "      <td>Post-Napoleonic</td>\n",
              "      <td>6.374407</td>\n",
              "      <td>18.0</td>\n",
              "    </tr>\n",
              "    <tr>\n",
              "      <th>35</th>\n",
              "      <td>Industry / Manufacturing</td>\n",
              "      <td>6.368233</td>\n",
              "      <td>90.0</td>\n",
              "    </tr>\n",
              "    <tr>\n",
              "      <th>66</th>\n",
              "      <td>Renaissance</td>\n",
              "      <td>6.366714</td>\n",
              "      <td>89.0</td>\n",
              "    </tr>\n",
              "    <tr>\n",
              "      <th>18</th>\n",
              "      <td>Civilization</td>\n",
              "      <td>6.356147</td>\n",
              "      <td>115.0</td>\n",
              "    </tr>\n",
              "    <tr>\n",
              "      <th>69</th>\n",
              "      <td>Spies/Secret Agents</td>\n",
              "      <td>6.355862</td>\n",
              "      <td>46.0</td>\n",
              "    </tr>\n",
              "    <tr>\n",
              "      <th>16</th>\n",
              "      <td>City Building</td>\n",
              "      <td>6.319009</td>\n",
              "      <td>171.0</td>\n",
              "    </tr>\n",
              "    <tr>\n",
              "      <th>23</th>\n",
              "      <td>Economic</td>\n",
              "      <td>6.309115</td>\n",
              "      <td>395.0</td>\n",
              "    </tr>\n",
              "    <tr>\n",
              "      <th>49</th>\n",
              "      <td>Mythology</td>\n",
              "      <td>6.300905</td>\n",
              "      <td>83.0</td>\n",
              "    </tr>\n",
              "    <tr>\n",
              "      <th>71</th>\n",
              "      <td>Territory Building</td>\n",
              "      <td>6.295276</td>\n",
              "      <td>135.0</td>\n",
              "    </tr>\n",
              "    <tr>\n",
              "      <th>53</th>\n",
              "      <td>Novel-based</td>\n",
              "      <td>6.265824</td>\n",
              "      <td>87.0</td>\n",
              "    </tr>\n",
              "    <tr>\n",
              "      <th>31</th>\n",
              "      <td>Fighting</td>\n",
              "      <td>6.260619</td>\n",
              "      <td>380.0</td>\n",
              "    </tr>\n",
              "    <tr>\n",
              "      <th>58</th>\n",
              "      <td>Political</td>\n",
              "      <td>6.259269</td>\n",
              "      <td>116.0</td>\n",
              "    </tr>\n",
              "    <tr>\n",
              "      <th>2</th>\n",
              "      <td>Adventure</td>\n",
              "      <td>6.238299</td>\n",
              "      <td>223.0</td>\n",
              "    </tr>\n",
              "    <tr>\n",
              "      <th>33</th>\n",
              "      <td>Horror</td>\n",
              "      <td>6.234493</td>\n",
              "      <td>122.0</td>\n",
              "    </tr>\n",
              "    <tr>\n",
              "      <th>68</th>\n",
              "      <td>Space Exploration</td>\n",
              "      <td>6.234424</td>\n",
              "      <td>61.0</td>\n",
              "    </tr>\n",
              "    <tr>\n",
              "      <th>42</th>\n",
              "      <td>Medieval</td>\n",
              "      <td>6.229393</td>\n",
              "      <td>217.0</td>\n",
              "    </tr>\n",
              "    <tr>\n",
              "      <th>47</th>\n",
              "      <td>Murder/Mystery</td>\n",
              "      <td>6.222762</td>\n",
              "      <td>57.0</td>\n",
              "    </tr>\n",
              "  </tbody>\n",
              "</table>\n",
              "</div>"
            ],
            "text/plain": [
              "                    category  mean_geek_rating  nbr_games\n",
              "39            Mature / Adult          6.541271       11.0\n",
              "30                   Farming          6.443360       56.0\n",
              "26             Environmental          6.396710       40.0\n",
              "59           Post-Napoleonic          6.374407       18.0\n",
              "35  Industry / Manufacturing          6.368233       90.0\n",
              "66               Renaissance          6.366714       89.0\n",
              "18              Civilization          6.356147      115.0\n",
              "69       Spies/Secret Agents          6.355862       46.0\n",
              "16             City Building          6.319009      171.0\n",
              "23                  Economic          6.309115      395.0\n",
              "49                 Mythology          6.300905       83.0\n",
              "71        Territory Building          6.295276      135.0\n",
              "53               Novel-based          6.265824       87.0\n",
              "31                  Fighting          6.260619      380.0\n",
              "58                 Political          6.259269      116.0\n",
              "2                  Adventure          6.238299      223.0\n",
              "33                    Horror          6.234493      122.0\n",
              "68         Space Exploration          6.234424       61.0\n",
              "42                  Medieval          6.229393      217.0\n",
              "47            Murder/Mystery          6.222762       57.0"
            ]
          },
          "metadata": {},
          "execution_count": 22
        }
      ]
    },
    {
      "cell_type": "markdown",
      "metadata": {
        "id": "Z6MN_qmjJ5yy"
      },
      "source": [
        "The lowest rated games are Music, Math, and Game System. There also quite a few war related categores in the bottom 20: American Civil War, Korean War, World War I and II."
      ]
    },
    {
      "cell_type": "code",
      "metadata": {
        "colab": {
          "base_uri": "https://localhost:8080/",
          "height": 665
        },
        "id": "-0bMZTLP8y_K",
        "outputId": "ce5fddfc-ad0b-4848-f22a-45706019ff92"
      },
      "source": [
        "geek_rating_by_category.sort_values('mean_geek_rating', ascending=True).head(20)"
      ],
      "execution_count": null,
      "outputs": [
        {
          "output_type": "execute_result",
          "data": {
            "text/html": [
              "<div>\n",
              "<style scoped>\n",
              "    .dataframe tbody tr th:only-of-type {\n",
              "        vertical-align: middle;\n",
              "    }\n",
              "\n",
              "    .dataframe tbody tr th {\n",
              "        vertical-align: top;\n",
              "    }\n",
              "\n",
              "    .dataframe thead th {\n",
              "        text-align: right;\n",
              "    }\n",
              "</style>\n",
              "<table border=\"1\" class=\"dataframe\">\n",
              "  <thead>\n",
              "    <tr style=\"text-align: right;\">\n",
              "      <th></th>\n",
              "      <th>category</th>\n",
              "      <th>mean_geek_rating</th>\n",
              "      <th>nbr_games</th>\n",
              "    </tr>\n",
              "  </thead>\n",
              "  <tbody>\n",
              "    <tr>\n",
              "      <th>48</th>\n",
              "      <td>Music</td>\n",
              "      <td>5.759700</td>\n",
              "      <td>5.0</td>\n",
              "    </tr>\n",
              "    <tr>\n",
              "      <th>38</th>\n",
              "      <td>Math</td>\n",
              "      <td>5.807560</td>\n",
              "      <td>8.0</td>\n",
              "    </tr>\n",
              "    <tr>\n",
              "      <th>32</th>\n",
              "      <td>Game System</td>\n",
              "      <td>5.820436</td>\n",
              "      <td>9.0</td>\n",
              "    </tr>\n",
              "    <tr>\n",
              "      <th>13</th>\n",
              "      <td>Book</td>\n",
              "      <td>5.865290</td>\n",
              "      <td>20.0</td>\n",
              "    </tr>\n",
              "    <tr>\n",
              "      <th>4</th>\n",
              "      <td>American Civil War</td>\n",
              "      <td>5.872653</td>\n",
              "      <td>42.0</td>\n",
              "    </tr>\n",
              "    <tr>\n",
              "      <th>36</th>\n",
              "      <td>Korean War</td>\n",
              "      <td>5.874700</td>\n",
              "      <td>3.0</td>\n",
              "    </tr>\n",
              "    <tr>\n",
              "      <th>61</th>\n",
              "      <td>Print &amp; Play</td>\n",
              "      <td>5.879822</td>\n",
              "      <td>58.0</td>\n",
              "    </tr>\n",
              "    <tr>\n",
              "      <th>50</th>\n",
              "      <td>Napoleonic</td>\n",
              "      <td>5.886461</td>\n",
              "      <td>47.0</td>\n",
              "    </tr>\n",
              "    <tr>\n",
              "      <th>15</th>\n",
              "      <td>Children's Game</td>\n",
              "      <td>5.890584</td>\n",
              "      <td>105.0</td>\n",
              "    </tr>\n",
              "    <tr>\n",
              "      <th>77</th>\n",
              "      <td>Vietnam War</td>\n",
              "      <td>5.915079</td>\n",
              "      <td>12.0</td>\n",
              "    </tr>\n",
              "    <tr>\n",
              "      <th>45</th>\n",
              "      <td>Modern Warfare</td>\n",
              "      <td>5.917399</td>\n",
              "      <td>61.0</td>\n",
              "    </tr>\n",
              "    <tr>\n",
              "      <th>75</th>\n",
              "      <td>Trivia</td>\n",
              "      <td>5.922166</td>\n",
              "      <td>24.0</td>\n",
              "    </tr>\n",
              "    <tr>\n",
              "      <th>81</th>\n",
              "      <td>World War II</td>\n",
              "      <td>5.922496</td>\n",
              "      <td>221.0</td>\n",
              "    </tr>\n",
              "    <tr>\n",
              "      <th>80</th>\n",
              "      <td>World War I</td>\n",
              "      <td>5.923018</td>\n",
              "      <td>45.0</td>\n",
              "    </tr>\n",
              "    <tr>\n",
              "      <th>43</th>\n",
              "      <td>Memory</td>\n",
              "      <td>5.932905</td>\n",
              "      <td>38.0</td>\n",
              "    </tr>\n",
              "    <tr>\n",
              "      <th>1</th>\n",
              "      <td>Action / Dexterity</td>\n",
              "      <td>5.934145</td>\n",
              "      <td>134.0</td>\n",
              "    </tr>\n",
              "    <tr>\n",
              "      <th>78</th>\n",
              "      <td>Wargame</td>\n",
              "      <td>5.975838</td>\n",
              "      <td>635.0</td>\n",
              "    </tr>\n",
              "    <tr>\n",
              "      <th>79</th>\n",
              "      <td>Word Game</td>\n",
              "      <td>5.977960</td>\n",
              "      <td>44.0</td>\n",
              "    </tr>\n",
              "    <tr>\n",
              "      <th>54</th>\n",
              "      <td>Number</td>\n",
              "      <td>5.983398</td>\n",
              "      <td>20.0</td>\n",
              "    </tr>\n",
              "    <tr>\n",
              "      <th>11</th>\n",
              "      <td>Aviation / Flight</td>\n",
              "      <td>5.983438</td>\n",
              "      <td>72.0</td>\n",
              "    </tr>\n",
              "  </tbody>\n",
              "</table>\n",
              "</div>"
            ],
            "text/plain": [
              "              category  mean_geek_rating  nbr_games\n",
              "48               Music          5.759700        5.0\n",
              "38                Math          5.807560        8.0\n",
              "32         Game System          5.820436        9.0\n",
              "13                Book          5.865290       20.0\n",
              "4   American Civil War          5.872653       42.0\n",
              "36          Korean War          5.874700        3.0\n",
              "61        Print & Play          5.879822       58.0\n",
              "50          Napoleonic          5.886461       47.0\n",
              "15     Children's Game          5.890584      105.0\n",
              "77         Vietnam War          5.915079       12.0\n",
              "45      Modern Warfare          5.917399       61.0\n",
              "75              Trivia          5.922166       24.0\n",
              "81        World War II          5.922496      221.0\n",
              "80         World War I          5.923018       45.0\n",
              "43              Memory          5.932905       38.0\n",
              "1   Action / Dexterity          5.934145      134.0\n",
              "78             Wargame          5.975838      635.0\n",
              "79           Word Game          5.977960       44.0\n",
              "54              Number          5.983398       20.0\n",
              "11   Aviation / Flight          5.983438       72.0"
            ]
          },
          "metadata": {},
          "execution_count": 23
        }
      ]
    },
    {
      "cell_type": "markdown",
      "metadata": {
        "id": "odzPx50jrmik"
      },
      "source": [
        "Prepare features for modeling"
      ]
    },
    {
      "cell_type": "code",
      "metadata": {
        "id": "fTeOJo9Tj_fC"
      },
      "source": [
        "# log transform\n",
        "df_train['owned_log'] = np.log(df_train['owned'])\n",
        "df_test['owned_log'] = np.log(df_test['owned'])\n",
        "\n",
        "df_train['num_votes_log'] = np.log(df_train['num_votes'])\n",
        "df_test['num_votes_log'] = np.log(df_test['num_votes'])"
      ],
      "execution_count": 93,
      "outputs": []
    },
    {
      "cell_type": "code",
      "metadata": {
        "id": "3tallie71M3a"
      },
      "source": [
        "# dummy variables for categories\n",
        "df_test['geek_rating'] = -1\n",
        "\n",
        "df = pd.concat([df_train, df_test])\n",
        "\n",
        "cat_col_names = [i for i in df.columns.values if i.find('cat')==0]\n",
        "df['category_list'] = df[cat_col_names].apply(lambda x: ', '.join(x[x.notnull()]), axis = 1)\n",
        "category_dummies = df['category_list'].str.get_dummies(sep=', ')\n",
        "\n",
        "df = pd.concat([df, category_dummies], axis = 1)\n",
        "df_train = df.loc[df['geek_rating']!=-1,:]\n",
        "df_test = df.loc[df['geek_rating'] == -1,:]"
      ],
      "execution_count": 94,
      "outputs": []
    },
    {
      "cell_type": "code",
      "metadata": {
        "id": "fZp12SkhbOaQ"
      },
      "source": [
        "num_feats = [\n",
        "               'min_players', \n",
        "               'max_players', \n",
        "               'avg_time', \n",
        "               'min_time',\n",
        "               'max_time', \n",
        "               'year', \n",
        "               'num_votes_log', \n",
        "               'age',\n",
        "               'owned_log'\n",
        "]\n",
        "\n",
        "target = 'geek_rating'"
      ],
      "execution_count": 104,
      "outputs": []
    },
    {
      "cell_type": "code",
      "metadata": {
        "id": "5t_53PYTARhZ"
      },
      "source": [
        "# fillna for missing category 2\n",
        "df_train['category2'].fillna('none', inplace=True)\n",
        "df_test['category2'].fillna('none', inplace=True)\n",
        "\n",
        "# list cat vars\n",
        "categorical_variables  = ['category1','category2', 'mechanic', 'designer']"
      ],
      "execution_count": 99,
      "outputs": []
    },
    {
      "cell_type": "markdown",
      "metadata": {
        "id": "u_EZcL6vK7Ov"
      },
      "source": [
        "Catboost Regressor for modeling geek rating with the defined predictor variables. I also tested XGBoost and CatBoost performs great on this dataset."
      ]
    },
    {
      "cell_type": "code",
      "metadata": {
        "colab": {
          "base_uri": "https://localhost:8080/",
          "height": 49,
          "referenced_widgets": [
            "fb75b10fcc844e589a762de94763c3cd",
            "74be725fcef94bb28b0237e938d73d44",
            "a8a55fb5b82e4f0c9d061b3a3b1d16c2",
            "5b9affd258124601aafadd0b229fa027",
            "108e9181f72945e1b2155c17ef6f529a",
            "631780416d1a482ba0c33b462a05b501",
            "7e456ae1cc1d4e31a793df7578983bbf",
            "0cb8b73ca2e04fed8ae0455d417b959d",
            "250ea4b3d8764e1ebccfc498956b6d6b",
            "58e99bf5582f4c0cb94cdd81cf30b8ba",
            "500f40545a204d0dbb2647e86ca42604"
          ]
        },
        "id": "1VJIUUWa-FAh",
        "outputId": "15c6cca1-9b27-4b81-ddf4-ba65b6f8c1a8"
      },
      "source": [
        "folds = 5\n",
        "kf = KFold(folds)\n",
        "\n",
        "df_preds = pd.DataFrame()\n",
        "\n",
        "for train_idx, test_idx in tqdm(kf.split(df_train), total=folds):\n",
        "  train_data = df_train.iloc[train_idx]\n",
        "  test_data = df_train.iloc[test_idx].copy()\n",
        "\n",
        "  proportion_clf = CatBoostRegressor(cat_features=categorical_variables,\n",
        "                                           logging_level=\"Silent\",\n",
        "                                           loss_function=\"MAE\")\n",
        "        \n",
        "  proportion_clf.fit(train_data.loc[:, num_feats+categorical_variables], train_data[target])\n",
        "\n",
        "  test_data['preds'] = pd.DataFrame(proportion_clf.predict(test_data.loc[:, num_feats+categorical_variables]), index=test_data.index)\n",
        "  df_preds = df_preds.append(test_data)"
      ],
      "execution_count": 105,
      "outputs": [
        {
          "output_type": "display_data",
          "data": {
            "application/vnd.jupyter.widget-view+json": {
              "model_id": "fb75b10fcc844e589a762de94763c3cd",
              "version_minor": 0,
              "version_major": 2
            },
            "text/plain": [
              "  0%|          | 0/5 [00:00<?, ?it/s]"
            ]
          },
          "metadata": {}
        }
      ]
    },
    {
      "cell_type": "markdown",
      "metadata": {
        "id": "UT2EvsOOLhN2"
      },
      "source": [
        "The RMSE (root mean squared error) is 0.1713 which translates to a private leaderboard score on Kaggle of 0.16855. This places us in 5th place with minimal feature engineering and hyperparameter tuning."
      ]
    },
    {
      "cell_type": "code",
      "metadata": {
        "colab": {
          "base_uri": "https://localhost:8080/"
        },
        "id": "IzUswyJU-FC_",
        "outputId": "b78c6b53-221c-473c-e3a0-4c10c9e0b0f7"
      },
      "source": [
        "rmse = np.sqrt(mean_squared_error(df_preds[target], df_preds['preds']))\n",
        "rmse"
      ],
      "execution_count": 106,
      "outputs": [
        {
          "output_type": "execute_result",
          "data": {
            "text/plain": [
              "0.17132000754051915"
            ]
          },
          "metadata": {},
          "execution_count": 106
        }
      ]
    },
    {
      "cell_type": "markdown",
      "metadata": {
        "id": "iMLrWZdBMGhy"
      },
      "source": [
        "Variable importance plots show that number votes and owned are most helpful for the model. Year is another important feature. "
      ]
    },
    {
      "cell_type": "code",
      "metadata": {
        "colab": {
          "base_uri": "https://localhost:8080/",
          "height": 404
        },
        "id": "aYbyfMj5AGFD",
        "outputId": "3f7ff673-b230-4142-c9fb-4a4160dac93e"
      },
      "source": [
        "importances = proportion_clf.feature_importances_\n",
        "idxs = np.argsort(importances)\n",
        "\n",
        "plt.figure(figsize=(10,6))\n",
        "plt.title('Feature Importances')\n",
        "plt.barh(range(len(idxs)), importances[idxs], align='center')\n",
        "plt.yticks(range(len(idxs)), [train_data.loc[:, num_feats+categorical_variables].columns[i] for i in idxs])\n",
        "plt.xlabel('Feature Importance')\n",
        "plt.show()"
      ],
      "execution_count": 107,
      "outputs": [
        {
          "output_type": "display_data",
          "data": {
            "image/png": "[encoded data removed]",
            "text/plain": [
              "<Figure size 720x432 with 1 Axes>"
            ]
          },
          "metadata": {
            "needs_background": "light"
          }
        }
      ]
    },
    {
      "cell_type": "markdown",
      "metadata": {
        "id": "AYxaHSAVMQDk"
      },
      "source": [
        "This proved to be a fun and interesting dataset. In some cases smaller datasets are not as interesting, but this is an exception. In the future I would spend time:\n",
        "\n",
        "1.   More in-depth data exploration\n",
        "2.   CatBoost hyperparameter tuning\n",
        "3.   Explore modeling more categories\n",
        "4.   Possibly scrape the board game website for more predictors\n",
        "5.   Learn more about board games and see what new insights I can find in the data \n",
        "\n",
        "Thanks for reading and reach out if you want to chat about the analysis.\n"
      ]
    }
  ]
}